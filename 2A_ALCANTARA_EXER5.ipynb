{
  "nbformat": 4,
  "nbformat_minor": 0,
  "metadata": {
    "colab": {
      "provenance": [],
      "authorship_tag": "ABX9TyNpSVJz0BrF6pUwSkya49Nu",
      "include_colab_link": true
    },
    "kernelspec": {
      "name": "python3",
      "display_name": "Python 3"
    },
    "language_info": {
      "name": "python"
    }
  },
  "cells": [
    {
      "cell_type": "markdown",
      "metadata": {
        "id": "view-in-github",
        "colab_type": "text"
      },
      "source": [
        "<a href=\"https://colab.research.google.com/github/alyssanew/CS2A_Alcantara/blob/main/2A_ALCANTARA_EXER5.ipynb\" target=\"_parent\"><img src=\"https://colab.research.google.com/assets/colab-badge.svg\" alt=\"Open In Colab\"/></a>"
      ]
    },
    {
      "cell_type": "markdown",
      "source": [
        "1. DATA PROCESSING"
      ],
      "metadata": {
        "id": "nsv2XG3Z7P-C"
      }
    },
    {
      "cell_type": "code",
      "source": [
        "import pandas as pd\n",
        "from sklearn.model_selection import train_test_split\n",
        "from sklearn.linear_model import LogisticRegression\n",
        "from sklearn.metrics import accuracy_score, confusion_matrix, classification_report\n",
        "from sklearn.preprocessing import StandardScaler\n",
        "\n",
        "data = pd.read_csv('BankCustomerData.csv')\n",
        "print(data.head)\n",
        "\n",
        "data_dummies = pd.get_dummies(data, drop_first=True)\n",
        "data_dummies['needed balance'] = (data['balance']>2500).astype(int)\n"
      ],
      "metadata": {
        "colab": {
          "base_uri": "https://localhost:8080/"
        },
        "id": "2D3dMZOm8dOc",
        "outputId": "747bc667-76fe-4f9a-f699-fb3d10f8a131"
      },
      "execution_count": null,
      "outputs": [
        {
          "output_type": "stream",
          "name": "stdout",
          "text": [
            "<bound method NDFrame.head of        age           job  marital  education default  balance housing loan  \\\n",
            "0       58    management  married   tertiary      no     2143     yes   no   \n",
            "1       44    technician   single  secondary      no       29     yes   no   \n",
            "2       33  entrepreneur  married  secondary      no        2     yes  yes   \n",
            "3       47   blue-collar  married    unknown      no     1506     yes   no   \n",
            "4       33       unknown   single    unknown      no        1      no   no   \n",
            "...    ...           ...      ...        ...     ...      ...     ...  ...   \n",
            "42634   21       student   single  secondary      no     2488      no   no   \n",
            "42635   87       retired  married    primary      no     2190      no   no   \n",
            "42636   34   blue-collar  married    primary      no     6718      no   no   \n",
            "42637   22       student   single  secondary      no      254      no   no   \n",
            "42638   32    management   single   tertiary      no     1962      no   no   \n",
            "\n",
            "         contact  day month  duration  campaign  pdays  previous poutcome  \\\n",
            "0        unknown    5   may       261         1     -1         0  unknown   \n",
            "1        unknown    5   may       151         1     -1         0  unknown   \n",
            "2        unknown    5   may        76         1     -1         0  unknown   \n",
            "3        unknown    5   may        92         1     -1         0  unknown   \n",
            "4        unknown    5   may       198         1     -1         0  unknown   \n",
            "...          ...  ...   ...       ...       ...    ...       ...      ...   \n",
            "42634  telephone   12   jan       661         2     92         1  success   \n",
            "42635  telephone   12   jan       512         2     -1         0  unknown   \n",
            "42636   cellular   13   jan       278         4     97         1    other   \n",
            "42637   cellular   13   jan       143         2     -1         0  unknown   \n",
            "42638   cellular   13   jan       130         1     -1         0  unknown   \n",
            "\n",
            "      term_deposit  \n",
            "0               no  \n",
            "1               no  \n",
            "2               no  \n",
            "3               no  \n",
            "4               no  \n",
            "...            ...  \n",
            "42634          yes  \n",
            "42635          yes  \n",
            "42636           no  \n",
            "42637          yes  \n",
            "42638           no  \n",
            "\n",
            "[42639 rows x 17 columns]>\n"
          ]
        }
      ]
    },
    {
      "cell_type": "markdown",
      "source": [
        "2. FEATURE SELECTION"
      ],
      "metadata": {
        "id": "kPEhMVDq7xYv"
      }
    },
    {
      "cell_type": "code",
      "source": [
        "x = data_dummies.drop(['age', 'balance', 'day', 'duration', 'needed balance', 'campaign', 'previous', 'needed balance'],axis=1)\n",
        "y = data_dummies['needed balance']"
      ],
      "metadata": {
        "id": "S9-JmNSu74Yy"
      },
      "execution_count": null,
      "outputs": []
    },
    {
      "cell_type": "markdown",
      "source": [
        "3. DATA SPLITTING"
      ],
      "metadata": {
        "id": "_VXmFG7874tR"
      }
    },
    {
      "cell_type": "code",
      "source": [
        "x_train, x_test, y_train, y_test = train_test_split(x,y,test_size=0.2, random_state=80-20)"
      ],
      "metadata": {
        "id": "dNT0VJYhJN8s"
      },
      "execution_count": null,
      "outputs": []
    },
    {
      "cell_type": "markdown",
      "source": [
        "4. MODEL TRAINING"
      ],
      "metadata": {
        "id": "BhiGKd0bKGvW"
      }
    },
    {
      "cell_type": "code",
      "source": [
        "scaler = StandardScaler()\n",
        "x_train_scaled = scaler.fit_transform(x_train)\n",
        "x_test_scaled = scaler.fit_transform(x_test)\n",
        "\n",
        "model = LogisticRegression()\n",
        "model.fit(x_train_scaled, y_train)\n"
      ],
      "metadata": {
        "colab": {
          "base_uri": "https://localhost:8080/",
          "height": 211
        },
        "id": "xYGenWC9KPq1",
        "outputId": "e501f3a8-fd3d-44ca-9b52-558dbf88ce05"
      },
      "execution_count": null,
      "outputs": [
        {
          "output_type": "error",
          "ename": "NameError",
          "evalue": "name 'StandardScaler' is not defined",
          "traceback": [
            "\u001b[0;31m---------------------------------------------------------------------------\u001b[0m",
            "\u001b[0;31mNameError\u001b[0m                                 Traceback (most recent call last)",
            "\u001b[0;32m<ipython-input-1-4affe0ba628f>\u001b[0m in \u001b[0;36m<cell line: 1>\u001b[0;34m()\u001b[0m\n\u001b[0;32m----> 1\u001b[0;31m \u001b[0mscaler\u001b[0m \u001b[0;34m=\u001b[0m \u001b[0mStandardScaler\u001b[0m\u001b[0;34m(\u001b[0m\u001b[0;34m)\u001b[0m\u001b[0;34m\u001b[0m\u001b[0;34m\u001b[0m\u001b[0m\n\u001b[0m\u001b[1;32m      2\u001b[0m \u001b[0mx_train_scaled\u001b[0m \u001b[0;34m=\u001b[0m \u001b[0mscaler\u001b[0m\u001b[0;34m.\u001b[0m\u001b[0mfit_transform\u001b[0m\u001b[0;34m(\u001b[0m\u001b[0mx_train\u001b[0m\u001b[0;34m)\u001b[0m\u001b[0;34m\u001b[0m\u001b[0;34m\u001b[0m\u001b[0m\n\u001b[1;32m      3\u001b[0m \u001b[0mx_test_scaled\u001b[0m \u001b[0;34m=\u001b[0m \u001b[0mscaler\u001b[0m\u001b[0;34m.\u001b[0m\u001b[0mfit_transform\u001b[0m\u001b[0;34m(\u001b[0m\u001b[0mx_test\u001b[0m\u001b[0;34m)\u001b[0m\u001b[0;34m\u001b[0m\u001b[0;34m\u001b[0m\u001b[0m\n\u001b[1;32m      4\u001b[0m \u001b[0;34m\u001b[0m\u001b[0m\n\u001b[1;32m      5\u001b[0m \u001b[0mmodel\u001b[0m \u001b[0;34m=\u001b[0m \u001b[0mLogisticRegression\u001b[0m\u001b[0;34m(\u001b[0m\u001b[0;34m)\u001b[0m\u001b[0;34m\u001b[0m\u001b[0;34m\u001b[0m\u001b[0m\n",
            "\u001b[0;31mNameError\u001b[0m: name 'StandardScaler' is not defined"
          ]
        }
      ]
    },
    {
      "cell_type": "markdown",
      "source": [
        "5. MODEL EVALUATION"
      ],
      "metadata": {
        "id": "nzVGQNpCKP-k"
      }
    },
    {
      "cell_type": "code",
      "source": [
        "y_pred = model.predict(x_test_scaled)\n",
        "\n",
        "accuracy = accuracy_score(y_test, y_pred)\n",
        "conf_matrix = confusion_matrix(y_test, y_pred)\n",
        "class_report = classification_report(y_test, y_pred)\n",
        "\n",
        "print(f\"accuracy:{accuracy}\")\n",
        "print(\"Confusion Matrix: \")\n",
        "print(conf_matrix)\n",
        "print(\"Classification Report: \")\n",
        "print(class_report)"
      ],
      "metadata": {
        "colab": {
          "base_uri": "https://localhost:8080/"
        },
        "id": "vnR2S3cQKfcD",
        "outputId": "e3940c0b-aaf2-40a0-ede8-3952f74cd6d7"
      },
      "execution_count": null,
      "outputs": [
        {
          "output_type": "stream",
          "name": "stdout",
          "text": [
            "accuracy:0.836421200750469\n",
            "Confusion Matrix: \n",
            "[[ 117 1353]\n",
            " [  42 7016]]\n",
            "Classification Report: \n",
            "              precision    recall  f1-score   support\n",
            "\n",
            "           0       0.74      0.08      0.14      1470\n",
            "           1       0.84      0.99      0.91      7058\n",
            "\n",
            "    accuracy                           0.84      8528\n",
            "   macro avg       0.79      0.54      0.53      8528\n",
            "weighted avg       0.82      0.84      0.78      8528\n",
            "\n"
          ]
        }
      ]
    },
    {
      "cell_type": "markdown",
      "source": [
        "6. CONCLUSION"
      ],
      "metadata": {
        "id": "qTtN4MwsKf2T"
      }
    },
    {
      "cell_type": "markdown",
      "source": [
        "Based on the model's performance, we can see that the accuracy rate is around 80% in which we can consider as high. For the bank's marketing strategies, they are able to display and give the information needed for the customer's sat"
      ],
      "metadata": {
        "id": "h24J0TcrLZoy"
      }
    },
    {
      "cell_type": "code",
      "source": [],
      "metadata": {
        "id": "000iPOpwUVjk"
      },
      "execution_count": null,
      "outputs": []
    }
  ]
}